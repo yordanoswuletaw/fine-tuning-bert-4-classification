{
 "cells": [
  {
   "cell_type": "code",
   "id": "initial_id",
   "metadata": {
    "collapsed": true,
    "ExecuteTime": {
     "end_time": "2025-02-15T09:23:15.293169Z",
     "start_time": "2025-02-15T09:23:15.280347Z"
    }
   },
   "source": [
    "from setfit import sample_dataset\n",
    "from setfit import SetFitModel, TrainingArguments as SetFitTrainingArguments, Trainer as SetFitTrainer\n",
    "from datasets import  load_dataset"
   ],
   "outputs": [],
   "execution_count": 9
  },
  {
   "metadata": {
    "ExecuteTime": {
     "end_time": "2025-02-15T10:12:29.636596Z",
     "start_time": "2025-02-15T10:12:29.188764Z"
    }
   },
   "cell_type": "code",
   "source": [
    "rotten_tomatoes = load_dataset('wykonos/movies')\n",
    "sampled_train_data = sample_dataset(rotten_tomatoes['train'], num_samples=16)\n",
    "\n",
    "model = SetFitModel.from_pretrained('sentence-transformers/all-mpnet-base-v2',\n",
    "                                    use_differentiable_head=True,\n",
    "                                    head_params={\"out_features\": 2})"
   ],
   "id": "5d2f3c296273b20e",
   "outputs": [
    {
     "name": "stderr",
     "output_type": "stream",
     "text": [
      "Using the latest cached version of the dataset since rotten_tomatoes couldn't be found on the Hugging Face Hub\n",
      "Found the latest cached dataset configuration 'default' at /Users/yo/.cache/huggingface/datasets/rotten_tomatoes/default/0.0.0/aa13bc287fa6fcab6daf52f0dfb9994269ffea28 (last modified on Sat Feb 15 12:54:04 2025).\n",
      "model_head.pkl not found on HuggingFace Hub, initialising classification head with random weights. You should TRAIN this model on a downstream task to use it for predictions and inference.\n"
     ]
    }
   ],
   "execution_count": 13
  },
  {
   "metadata": {
    "ExecuteTime": {
     "end_time": "2025-02-15T09:23:29.799135Z",
     "start_time": "2025-02-15T09:23:27.190831Z"
    }
   },
   "cell_type": "code",
   "source": [
    "args = SetFitTrainingArguments(\n",
    "    num_epochs=3,\n",
    "    num_iterations=20\n",
    ")\n",
    "args.eval_strategy = args.evaluation_strategy\n",
    "\n",
    "trainer = SetFitTrainer(\n",
    "    model=model,\n",
    "    args=args,\n",
    "    train_dataset=sampled_train_data,\n",
    "    eval_dataset=rotten_tomatoes['test'],\n",
    "    metric='f1'\n",
    ")"
   ],
   "id": "da4ee81a260b2935",
   "outputs": [
    {
     "data": {
      "text/plain": [
       "Map:   0%|          | 0/32 [00:00<?, ? examples/s]"
      ],
      "application/vnd.jupyter.widget-view+json": {
       "version_major": 2,
       "version_minor": 0,
       "model_id": "9dc9108072394292b59886d5c1677252"
      }
     },
     "metadata": {},
     "output_type": "display_data"
    }
   ],
   "execution_count": 11
  },
  {
   "metadata": {
    "ExecuteTime": {
     "end_time": "2025-02-15T10:12:28.691649Z",
     "start_time": "2025-02-15T09:23:29.815373Z"
    }
   },
   "cell_type": "code",
   "source": "trainer.train()",
   "id": "16ac25396e156f3c",
   "outputs": [
    {
     "name": "stderr",
     "output_type": "stream",
     "text": [
      "***** Running training *****\n",
      "  Num unique pairs = 1280\n",
      "  Batch size = 16\n",
      "  Num epochs = 3\n"
     ]
    },
    {
     "data": {
      "text/plain": [
       "<IPython.core.display.HTML object>"
      ],
      "text/html": [
       "\n",
       "    <div>\n",
       "      \n",
       "      <progress value='240' max='240' style='width:300px; height:20px; vertical-align: middle;'></progress>\n",
       "      [240/240 48:34, Epoch 3/3]\n",
       "    </div>\n",
       "    <table border=\"1\" class=\"dataframe\">\n",
       "  <thead>\n",
       " <tr style=\"text-align: left;\">\n",
       "      <th>Step</th>\n",
       "      <th>Training Loss</th>\n",
       "      <th>Validation Loss</th>\n",
       "    </tr>\n",
       "  </thead>\n",
       "  <tbody>\n",
       "  </tbody>\n",
       "</table><p>"
      ]
     },
     "metadata": {},
     "output_type": "display_data"
    }
   ],
   "execution_count": 12
  },
  {
   "metadata": {
    "ExecuteTime": {
     "end_time": "2025-02-15T10:13:45.514450Z",
     "start_time": "2025-02-15T10:12:30.181057Z"
    }
   },
   "cell_type": "code",
   "source": "trainer.evaluate()",
   "id": "ecade7417b76e75a",
   "outputs": [
    {
     "name": "stderr",
     "output_type": "stream",
     "text": [
      "***** Running evaluation *****\n",
      "Using the latest cached version of the module from /Users/yo/.cache/huggingface/modules/evaluate_modules/metrics/evaluate-metric--f1/34c46321f42186df33a6260966e34a368f14868d9cc2ba47d142112e2800d233 (last modified on Sat Feb 15 10:48:04 2025) since it couldn't be found locally at evaluate-metric--f1, or remotely on the Hugging Face Hub.\n"
     ]
    },
    {
     "data": {
      "text/plain": [
       "{'f1': 0.8426103646833013}"
      ]
     },
     "execution_count": 14,
     "metadata": {},
     "output_type": "execute_result"
    }
   ],
   "execution_count": 14
  },
  {
   "metadata": {},
   "cell_type": "code",
   "outputs": [],
   "execution_count": null,
   "source": "",
   "id": "1c527502e90c0857"
  }
 ],
 "metadata": {
  "kernelspec": {
   "display_name": "Python 3",
   "language": "python",
   "name": "python3"
  },
  "language_info": {
   "codemirror_mode": {
    "name": "ipython",
    "version": 2
   },
   "file_extension": ".py",
   "mimetype": "text/x-python",
   "name": "python",
   "nbconvert_exporter": "python",
   "pygments_lexer": "ipython2",
   "version": "2.7.6"
  }
 },
 "nbformat": 4,
 "nbformat_minor": 5
}
